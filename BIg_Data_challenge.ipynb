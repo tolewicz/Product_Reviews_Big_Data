{
  "nbformat": 4,
  "nbformat_minor": 0,
  "metadata": {
    "colab": {
      "name": "BIg_Data_challenge.ipynb",
      "provenance": [],
      "collapsed_sections": [],
      "authorship_tag": "ABX9TyOR2tle3/NZ5so9EeVuZmb5",
      "include_colab_link": true
    },
    "kernelspec": {
      "name": "python3",
      "display_name": "Python 3"
    }
  },
  "cells": [
    {
      "cell_type": "markdown",
      "metadata": {
        "id": "view-in-github",
        "colab_type": "text"
      },
      "source": [
        "<a href=\"https://colab.research.google.com/github/tolewicz/Product_Reviews_Big_Data/blob/main/BIg_Data_challenge.ipynb\" target=\"_parent\"><img src=\"https://colab.research.google.com/assets/colab-badge.svg\" alt=\"Open In Colab\"/></a>"
      ]
    },
    {
      "cell_type": "code",
      "metadata": {
        "id": "Z04ZRi1Eed8J",
        "outputId": "3e8e36c1-1834-45ad-f07a-3d08c3782a82",
        "colab": {
          "base_uri": "https://localhost:8080/",
          "height": 208
        }
      },
      "source": [
        "# Install Java, Spark, and Findspark\n",
        "!apt-get install openjdk-8-jdk-headless -qq > /dev/null\n",
        "!wget -q http://www-us.apache.org/dist/spark/spark-2.4.5/spark-2.4.5-bin-hadoop2.7.tgz\n",
        "!tar xf spark-2.4.5-bin-hadoop2.7.tgz\n",
        "!pip install -q findspark\n",
        "!wget https://jdbc.postgresql.org/download/postgresql-42.2.9.jar\n",
        "\n",
        "# Set Environment Variables\n",
        "import os\n",
        "os.environ[\"JAVA_HOME\"] = \"/usr/lib/jvm/java-8-openjdk-amd64\"\n",
        "os.environ[\"SPARK_HOME\"] = \"/content/spark-2.4.5-bin-hadoop2.7\"\n",
        "\n",
        "# Start a SparkSession\n",
        "import findspark\n",
        "findspark.init()"
      ],
      "execution_count": null,
      "outputs": [
        {
          "output_type": "stream",
          "text": [
            "--2020-05-05 08:40:22--  https://jdbc.postgresql.org/download/postgresql-42.2.9.jar\n",
            "Resolving jdbc.postgresql.org (jdbc.postgresql.org)... 72.32.157.228, 2001:4800:3e1:1::228\n",
            "Connecting to jdbc.postgresql.org (jdbc.postgresql.org)|72.32.157.228|:443... connected.\n",
            "HTTP request sent, awaiting response... 200 OK\n",
            "Length: 914037 (893K) [application/java-archive]\n",
            "Saving to: ‘postgresql-42.2.9.jar.3’\n",
            "\n",
            "\rpostgresql-42.2.9.j   0%[                    ]       0  --.-KB/s               \rpostgresql-42.2.9.j 100%[===================>] 892.61K  --.-KB/s    in 0.1s    \n",
            "\n",
            "2020-05-05 08:40:23 (8.37 MB/s) - ‘postgresql-42.2.9.jar.3’ saved [914037/914037]\n",
            "\n"
          ],
          "name": "stdout"
        }
      ]
    },
    {
      "cell_type": "code",
      "metadata": {
        "id": "xxua9DpnenRd"
      },
      "source": [
        "from pyspark.sql import SparkSession\n",
        "spark = SparkSession.builder.appName(\"CloudETL\").config(\"spark.driver.extraClassPath\",\"/content/postgresql-42.2.9.jar\").getOrCreate()"
      ],
      "execution_count": null,
      "outputs": []
    },
    {
      "cell_type": "code",
      "metadata": {
        "id": "mCclQl9Afb1J",
        "outputId": "8eea8ecd-8e58-4899-e305-3ccee9f52c7f",
        "colab": {
          "base_uri": "https://localhost:8080/",
          "height": 488
        }
      },
      "source": [
        "# Read in data from S3 Buckets user_data.csv\n",
        "#IT WORKED !! I CAN'T BELIVE IT WORKED !\n",
        "from pyspark import SparkFiles\n",
        "url =\"https://s3.amazonaws.com/amazon-reviews-pds/tsv/amazon_reviews_us_Video_Games_v1_00.tsv.gz\"\n",
        "spark.sparkContext.addFile(url)\n",
        "user_data_df = spark.read.csv(SparkFiles.get(\"amazon_reviews_us_Video_Games_v1_00.tsv.gz\"), sep=\"\\t\", header=True, inferSchema=True)\n",
        "\n",
        "\n",
        "# Show DataFrame\n",
        "user_data_df.show()"
      ],
      "execution_count": null,
      "outputs": [
        {
          "output_type": "stream",
          "text": [
            "+-----------+-----------+--------------+----------+--------------+--------------------+----------------+-----------+-------------+-----------+----+-----------------+--------------------+--------------------+-------------------+\n",
            "|marketplace|customer_id|     review_id|product_id|product_parent|       product_title|product_category|star_rating|helpful_votes|total_votes|vine|verified_purchase|     review_headline|         review_body|        review_date|\n",
            "+-----------+-----------+--------------+----------+--------------+--------------------+----------------+-----------+-------------+-----------+----+-----------------+--------------------+--------------------+-------------------+\n",
            "|         US|   12039526| RTIS3L2M1F5SM|B001CXYMFS|     737716809|Thrustmaster T-Fl...|     Video Games|          5|            0|          0|   N|                Y|an amazing joysti...|Used this for Eli...|2015-08-31 00:00:00|\n",
            "|         US|    9636577| R1ZV7R40OLHKD|B00M920ND6|     569686175|Tonsee 6 buttons ...|     Video Games|          5|            0|          0|   N|                Y|Definitely a sile...|Loved it,  I didn...|2015-08-31 00:00:00|\n",
            "|         US|    2331478|R3BH071QLH8QMC|B0029CSOD2|      98937668|Hidden Mysteries:...|     Video Games|          1|            0|          1|   N|                Y|            One Star|poor quality work...|2015-08-31 00:00:00|\n",
            "|         US|   52495923|R127K9NTSXA2YH|B00GOOSV98|      23143350|GelTabz Performan...|     Video Games|          3|            0|          0|   N|                Y|good, but could b...|nice, but tend to...|2015-08-31 00:00:00|\n",
            "|         US|   14533949|R32ZWUXDJPW27Q|B00Y074JOM|     821342511|Zero Suit Samus a...|     Video Games|          4|            0|          0|   N|                Y|   Great but flawed.|Great amiibo, gre...|2015-08-31 00:00:00|\n",
            "|         US|    2377552|R3AQQ4YUKJWBA6|B002UBI6W6|     328764615|Psyclone Recharge...|     Video Games|          1|            0|          0|   N|                Y|            One Star|The remote consta...|2015-08-31 00:00:00|\n",
            "|         US|   17521011|R2F0POU5K6F73F|B008XHCLFO|      24234603|Protection for yo...|     Video Games|          5|            0|          0|   N|                Y|              A Must|I have a 2012-201...|2015-08-31 00:00:00|\n",
            "|         US|   19676307|R3VNR804HYSMR6|B00BRA9R6A|     682267517|   Nerf 3DS XL Armor|     Video Games|          5|            0|          0|   N|                Y|          Five Stars|Perfect, kids lov...|2015-08-31 00:00:00|\n",
            "|         US|     224068| R3GZTM72WA2QH|B009EPWJLA|     435241890|One Piece: Pirate...|     Video Games|          5|            0|          0|   N|                Y|          Five Stars|            Excelent|2015-08-31 00:00:00|\n",
            "|         US|   48467989| RNQOY62705W1K|B0000AV7GB|     256572651|Playstation 2 Dan...|     Video Games|          4|            0|          0|   N|                Y|          Four Stars|Slippery but expe...|2015-08-31 00:00:00|\n",
            "|         US|     106569|R1VTIA3JTYBY02|B00008KTNN|     384411423|Metal Arms: Glitc...|     Video Games|          5|            0|          0|   N|                N|          Five Stars|Love the game. Se...|2015-08-31 00:00:00|\n",
            "|         US|   48269642|R29DOU8791QZL8|B000A3IA0Y|     472622859|72 Pin Connector ...|     Video Games|          1|            0|          0|   N|                Y| Game will get stuck|Does not fit prop...|2015-08-31 00:00:00|\n",
            "|         US|   52738710|R15DUT1VIJ9RJZ|B0053BQN34|     577628462|uDraw Gametablet ...|     Video Games|          2|            0|          0|   N|                Y|We have tried it ...|This was way too ...|2015-08-31 00:00:00|\n",
            "|         US|   10556786|R3IMF2MQ3OU9ZM|B002I0HIMI|     988218515|NBA 2K12(Covers M...|     Video Games|          4|            0|          0|   N|                Y|          Four Stars|Works great good ...|2015-08-31 00:00:00|\n",
            "|         US|    2963837|R23H79DHOZTYAU|B0081EH12M|     770100932|New Trigger Grips...|     Video Games|          1|            1|          1|   N|                Y|Now i have to buy...|It did not fit th...|2015-08-31 00:00:00|\n",
            "|         US|   23092109| RIV24EQAIXA4O|B005FMLZQQ|      24647669|Xbox 360 Media Re...|     Video Games|          5|            0|          0|   N|                Y|          Five Stars|perfect lightweig...|2015-08-31 00:00:00|\n",
            "|         US|   23091728|R3UCNGYDVN24YB|B002BSA388|      33706205|Super Mario Galaxy 2|     Video Games|          5|            0|          0|   N|                Y|          Five Stars|               great|2015-08-31 00:00:00|\n",
            "|         US|   10712640| RUL4H4XTTN2DY|B00BUSLSAC|     829667834|Nintendo 3DS XL -...|     Video Games|          5|            0|          0|   N|                Y|          Five Stars|Works beautifully...|2015-08-31 00:00:00|\n",
            "|         US|   17455376|R20JF7Z4DHTNX5|B00KWF38AW|     110680188|Captain Toad:  Tr...|     Video Games|          5|            0|          0|   N|                Y|          Five Stars|Kids loved the ga...|2015-08-31 00:00:00|\n",
            "|         US|   14754850|R2T1AJ5MFI2260|B00BRQJYA8|     616463426|Lego Batman 2: DC...|     Video Games|          4|            0|          0|   N|                Y|          Four Stars|           Goodngame|2015-08-31 00:00:00|\n",
            "+-----------+-----------+--------------+----------+--------------+--------------------+----------------+-----------+-------------+-----------+----+-----------------+--------------------+--------------------+-------------------+\n",
            "only showing top 20 rows\n",
            "\n"
          ],
          "name": "stdout"
        }
      ]
    },
    {
      "cell_type": "code",
      "metadata": {
        "id": "0KlZlYAs0RXs",
        "outputId": "8b2efb50-735b-4fc6-8b85-70a88c7c6841",
        "colab": {
          "base_uri": "https://localhost:8080/",
          "height": 52
        }
      },
      "source": [
        "print(f'number of rows = {user_data_df.count()}')\n",
        "print(f'number of columns {len(user_data_df.columns)}')"
      ],
      "execution_count": null,
      "outputs": [
        {
          "output_type": "stream",
          "text": [
            "number of rows = 1785997\n",
            "number of columns 15\n"
          ],
          "name": "stdout"
        }
      ]
    },
    {
      "cell_type": "code",
      "metadata": {
        "id": "sWY1acqI1RGH",
        "outputId": "eaae1bdd-05fa-4e01-d8fe-8b99f282682e",
        "colab": {
          "base_uri": "https://localhost:8080/",
          "height": 69
        }
      },
      "source": [
        "#Dropping nan\n",
        "data_clean_na=user_data_df.dropna()\n",
        "print(f'number of rows data na cleanned = {data_clean_na.count()}')\n",
        "\n",
        "#Dropping the same rows\n",
        "data_clean_double = data_clean_na.distinct()\n",
        "print(f'number of rows data wo 2x rows = {data_clean_double.count()}')\n",
        "\n",
        "#Dropping the data of same customer reviewing same product 2x\n",
        "data_clean=data_clean_double.dropDuplicates([\"customer_id\",\"product_id\"])\n",
        "print(f'number of rows data wo 2x rows = {data_clean.count()}')\n",
        "\n",
        "\n",
        "\n"
      ],
      "execution_count": null,
      "outputs": [
        {
          "output_type": "stream",
          "text": [
            "number of rows data na cleanned = 1785886\n",
            "number of rows data wo 2x rows = 1785886\n",
            "number of rows data wo 2x rows = 1779349\n"
          ],
          "name": "stdout"
        }
      ]
    },
    {
      "cell_type": "code",
      "metadata": {
        "id": "y-zojXOFyZDE"
      },
      "source": [
        "#format daytime to date\n",
        "from pyspark.sql.types import DateType\n",
        "data_clean=data_clean.withColumn(\"review_date\",data_clean[\"review_date\"].cast(DateType()))\n",
        "#data_na_clean.show()"
      ],
      "execution_count": null,
      "outputs": []
    },
    {
      "cell_type": "code",
      "metadata": {
        "id": "xnJLb0JC62a3"
      },
      "source": [
        "#verified purcahse\n",
        "from pyspark.sql.functions import col\n",
        "data_purchased = data_clean.filter(col(\"verified_purchase\") == \"Y\")\n",
        "#data_purchased.show()"
      ],
      "execution_count": null,
      "outputs": []
    },
    {
      "cell_type": "code",
      "metadata": {
        "id": "Cy0uogqv8gNF",
        "outputId": "6910ddea-f697-4b33-9435-5393b03c5061",
        "colab": {
          "base_uri": "https://localhost:8080/",
          "height": 35
        }
      },
      "source": [
        "print(f'number of rows w. purchase verified = {data_purchased.count()}')\n"
      ],
      "execution_count": null,
      "outputs": [
        {
          "output_type": "stream",
          "text": [
            "number of rows w. purchase verified = 1169400\n"
          ],
          "name": "stdout"
        }
      ]
    },
    {
      "cell_type": "code",
      "metadata": {
        "id": "EuwWyj_082is",
        "outputId": "f06f5cfa-8bb4-4ae4-c98d-4b685cab684b",
        "colab": {
          "base_uri": "https://localhost:8080/",
          "height": 35
        }
      },
      "source": [
        "#checking existence of vine\n",
        "vine_cleaned = data_clean.filter(col(\"vine\") == \"Y\")\n",
        "\n",
        "print(f'number of rows w. vine only from \"na\" cleaned data = {vine_cleaned.count()}')\n"
      ],
      "execution_count": null,
      "outputs": [
        {
          "output_type": "stream",
          "text": [
            "number of rows w. vine only from \"na\" cleaned data = 4290\n"
          ],
          "name": "stdout"
        }
      ]
    },
    {
      "cell_type": "code",
      "metadata": {
        "id": "TTzaqnfe9J9a",
        "outputId": "4f3ec27a-20d5-47ed-a8f5-d14b26bce244",
        "colab": {
          "base_uri": "https://localhost:8080/",
          "height": 555
        }
      },
      "source": [
        "review_id_table = data_clean.select([\"review_id\", \"customer_id\", \"product_id\", \"product_parent\", \"review_date\"])\n",
        "review_id_table.show()\n",
        "review_id_table.dtypes"
      ],
      "execution_count": null,
      "outputs": [
        {
          "output_type": "stream",
          "text": [
            "+--------------+-----------+----------+--------------+-----------+\n",
            "|     review_id|customer_id|product_id|product_parent|review_date|\n",
            "+--------------+-----------+----------+--------------+-----------+\n",
            "|R3U67AEPQEY1HS|      11664|B00EFFW0HC|     277685961| 2014-11-02|\n",
            "|R2KKNB3ZJW646C|      12443|B0082SICGQ|     789058612| 2012-12-18|\n",
            "|R14LSVC3NE43IA|      14298|B004HX1QFY|     505269054| 2014-09-21|\n",
            "|R30TIKP9YQEP6D|      14653|B00U6Y7ISC|     265723335| 2015-06-06|\n",
            "|R3NK2IML8A31AB|      16964|B002BS47JE|     449719506| 2013-01-30|\n",
            "|R3UU9WCPVW1QEB|      17289|B00E20STCK|     496418464| 2015-07-25|\n",
            "|R2J58J8HJ7VFHI|      22150|B00EP5UODE|     259088061| 2015-07-19|\n",
            "| RITMWPU9WN7AS|      36322|B007H45AZ2|     344618424| 2013-01-03|\n",
            "|R2XA7S79IU8U7V|      41216|B0053OLY9O|     644540693| 2013-12-02|\n",
            "|R3DCR966DTLVC2|      60986|B000VD9RKU|     493776828| 2013-02-06|\n",
            "|R36ZWEW6Q9CUJP|      61533|B005TD4Q08|     660576667| 2013-11-10|\n",
            "|R37NGPHVC8Q2FA|      64750|B00OGPTED4|     513232670| 2015-07-18|\n",
            "|R1EZO7EW7L1ZZC|      69563|B007MJSZDQ|     935025808| 2014-01-13|\n",
            "|R2U4V3Y3LKDZ33|      77453|B00NQT48F0|     981273292| 2015-01-11|\n",
            "| RGT8NNJVFDYM6|      84773|B00OFQFYVU|     684432522| 2015-03-01|\n",
            "|R1QL0OOJDZ8UYP|     101420|B00DBDPOZ4|     123710330| 2014-10-01|\n",
            "|R35KVFL0AE75Y9|     101479|B004EDJOYC|     109828289| 2013-02-20|\n",
            "|R15AJ61F2EAZIS|     102683|B002I0J5NI|     126031982| 2015-02-12|\n",
            "| RMRXY3IR398TF|     137868|B00000K4CR|     849942392| 2015-08-26|\n",
            "|R2P1CHRYVAJG3R|     147913|B009M72E5Q|      89081777| 2015-08-21|\n",
            "+--------------+-----------+----------+--------------+-----------+\n",
            "only showing top 20 rows\n",
            "\n"
          ],
          "name": "stdout"
        },
        {
          "output_type": "execute_result",
          "data": {
            "text/plain": [
              "[('review_id', 'string'),\n",
              " ('customer_id', 'int'),\n",
              " ('product_id', 'string'),\n",
              " ('product_parent', 'int'),\n",
              " ('review_date', 'date')]"
            ]
          },
          "metadata": {
            "tags": []
          },
          "execution_count": 10
        }
      ]
    },
    {
      "cell_type": "code",
      "metadata": {
        "id": "7E1JoeihN2WK",
        "outputId": "3f9d653c-222f-4f06-fe54-d851b55b79fd",
        "colab": {
          "base_uri": "https://localhost:8080/",
          "height": 468
        }
      },
      "source": [
        "products = data_clean.select([\"product_id\", \"product_title\"])\n",
        "products.show()\n",
        "#products.dtypes"
      ],
      "execution_count": null,
      "outputs": [
        {
          "output_type": "stream",
          "text": [
            "+----------+--------------------+\n",
            "|product_id|       product_title|\n",
            "+----------+--------------------+\n",
            "|B00EFFW0HC|       Battlefield 4|\n",
            "|B0082SICGQ|Xbox 360 250GB Ra...|\n",
            "|B004HX1QFY|Nyko Intercooler ...|\n",
            "|B00U6Y7ISC|Mario - Gold amii...|\n",
            "|B002BS47JE|        Wii Fit Plus|\n",
            "|B00E20STCK|SpongeBob Squarep...|\n",
            "|B00EP5UODE|Yu-gi-oh Zexal Du...|\n",
            "|B007H45AZ2|     Dead or Alive 5|\n",
            "|B0053OLY9O|Wireless Stereo H...|\n",
            "|B000VD9RKU|Wii GameBlaster L...|\n",
            "|B005TD4Q08|NCAA Football 200...|\n",
            "|B00OGPTED4|Sony Move Chargin...|\n",
            "|B007MJSZDQ|Matney 2 Pack Xbo...|\n",
            "|B00NQT48F0|Skylanders Mini A...|\n",
            "|B00OFQFYVU|G941 Virtual 7.1 ...|\n",
            "|B00DBDPOZ4|Xbox One Play and...|\n",
            "|B004EDJOYC|Sniper: Ghost War...|\n",
            "|B002I0J5NI|Super Street Figh...|\n",
            "|B00000K4CR|           GameShark|\n",
            "|B009M72E5Q|Nintendo Wii Cons...|\n",
            "+----------+--------------------+\n",
            "only showing top 20 rows\n",
            "\n"
          ],
          "name": "stdout"
        }
      ]
    },
    {
      "cell_type": "code",
      "metadata": {
        "id": "K4udSMq9eOjn",
        "outputId": "669ca28e-a996-43d1-9a3c-284d8063e777",
        "colab": {
          "base_uri": "https://localhost:8080/",
          "height": 485
        }
      },
      "source": [
        "customers = data_clean.select(col('customer_id'),col('star_rating').alias(\"customer_count\"))\n",
        "customers.show()\n",
        "customers.dtypes\n",
        "# no customer_count column in main table"
      ],
      "execution_count": null,
      "outputs": [
        {
          "output_type": "stream",
          "text": [
            "+-----------+--------------+\n",
            "|customer_id|customer_count|\n",
            "+-----------+--------------+\n",
            "|   51813110|             5|\n",
            "|   26113368|             5|\n",
            "|   47001176|             5|\n",
            "|   25167068|             5|\n",
            "|   40235148|             4|\n",
            "|   30640147|             4|\n",
            "|   10694970|             3|\n",
            "|   35671670|             4|\n",
            "|   45070066|             3|\n",
            "|   25213553|             5|\n",
            "|   45654033|             5|\n",
            "|   23904949|             4|\n",
            "|   48150210|             5|\n",
            "|   27241271|             5|\n",
            "|   47424514|             5|\n",
            "|   44950283|             5|\n",
            "|   40913597|             1|\n",
            "|   26361763|             5|\n",
            "|   17570349|             5|\n",
            "|   28196210|             4|\n",
            "+-----------+--------------+\n",
            "only showing top 20 rows\n",
            "\n"
          ],
          "name": "stdout"
        },
        {
          "output_type": "execute_result",
          "data": {
            "text/plain": [
              "[('customer_id', 'int'), ('customer_count', 'int')]"
            ]
          },
          "metadata": {
            "tags": []
          },
          "execution_count": 12
        }
      ]
    },
    {
      "cell_type": "code",
      "metadata": {
        "id": "A-1wTbCtnhKi",
        "outputId": "a4d3aeff-1b1b-48b3-a5be-480d5a1b54a4",
        "colab": {
          "base_uri": "https://localhost:8080/",
          "height": 555
        }
      },
      "source": [
        "vine_table = data_clean.select(['review_id','star_rating','helpful_votes','total_votes','vine'])\n",
        "vine_table.show()\n",
        "vine_table.dtypes"
      ],
      "execution_count": null,
      "outputs": [
        {
          "output_type": "stream",
          "text": [
            "+--------------+-----------+-------------+-----------+----+\n",
            "|     review_id|star_rating|helpful_votes|total_votes|vine|\n",
            "+--------------+-----------+-------------+-----------+----+\n",
            "|R3U67AEPQEY1HS|          5|            0|          1|   N|\n",
            "|R2KKNB3ZJW646C|          5|            0|          0|   N|\n",
            "|R14LSVC3NE43IA|          5|            0|          0|   N|\n",
            "|R30TIKP9YQEP6D|          5|            0|          1|   N|\n",
            "|R3NK2IML8A31AB|          5|            0|          0|   N|\n",
            "|R3UU9WCPVW1QEB|          5|            0|          0|   N|\n",
            "|R2J58J8HJ7VFHI|          5|            1|          1|   N|\n",
            "| RITMWPU9WN7AS|          5|            0|          0|   N|\n",
            "|R2XA7S79IU8U7V|          1|            1|          4|   N|\n",
            "|R3DCR966DTLVC2|          3|            0|          0|   N|\n",
            "|R36ZWEW6Q9CUJP|          5|            2|          2|   N|\n",
            "|R37NGPHVC8Q2FA|          5|            0|          0|   N|\n",
            "|R1EZO7EW7L1ZZC|          1|            0|          0|   N|\n",
            "|R2U4V3Y3LKDZ33|          5|            0|          1|   N|\n",
            "| RGT8NNJVFDYM6|          5|            1|          2|   N|\n",
            "|R1QL0OOJDZ8UYP|          5|            0|          0|   N|\n",
            "|R35KVFL0AE75Y9|          5|            0|          0|   N|\n",
            "|R15AJ61F2EAZIS|          5|            0|          0|   N|\n",
            "| RMRXY3IR398TF|          5|            0|          1|   N|\n",
            "|R2P1CHRYVAJG3R|          5|            0|          1|   N|\n",
            "+--------------+-----------+-------------+-----------+----+\n",
            "only showing top 20 rows\n",
            "\n"
          ],
          "name": "stdout"
        },
        {
          "output_type": "execute_result",
          "data": {
            "text/plain": [
              "[('review_id', 'string'),\n",
              " ('star_rating', 'int'),\n",
              " ('helpful_votes', 'int'),\n",
              " ('total_votes', 'int'),\n",
              " ('vine', 'string')]"
            ]
          },
          "metadata": {
            "tags": []
          },
          "execution_count": 13
        }
      ]
    },
    {
      "cell_type": "code",
      "metadata": {
        "id": "ZBYBhdOJn_IT"
      },
      "source": [
        "# Configure settings for RDS \n",
        "mode = \"append\"\n",
        "jdbc_url=\"jdbc:postgresql://challenge.cugxdv9d3wwt.us-west-1.rds.amazonaws.com:5432/data_hw_two\"\n",
        "config = {\"user\":\"postgres\", \n",
        "          \"password\": \"xxxxxxx\", \n",
        "          \"driver\":\"org.postgresql.Driver\"}\n",
        "\n"
      ],
      "execution_count": null,
      "outputs": []
    },
    {
      "cell_type": "code",
      "metadata": {
        "id": "WBDhmtsMExHb"
      },
      "source": [
        "# # Write dataframe to billing_info table in RDS\n",
        "review_id_table.write.jdbc(url=jdbc_url, table='review_id_table', mode=mode, properties=config)\n",
        "\n",
        "# # Write dataframe to billing_info table in RDS\n",
        "# customers.write.jdbc(url=jdbc_url, table='customers', mode=mode, properties=config)\n",
        "\n",
        "# # # Write dataframe to payment_info table in RDS\n",
        "#products.write.jdbc(url=jdbc_url, table='products', mode=mode, properties=config)\n",
        "\n",
        "# # # Write DataFrame to active_user table in RDS\n",
        "# vine_table.write.jdbc(url=jdbc_url, table='vine_table', mode=mode, properties=config)"
      ],
      "execution_count": null,
      "outputs": []
    }
  ]
}