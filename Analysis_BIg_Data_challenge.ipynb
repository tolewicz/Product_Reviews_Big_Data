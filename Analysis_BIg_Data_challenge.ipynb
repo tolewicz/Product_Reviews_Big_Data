{
  "nbformat": 4,
  "nbformat_minor": 0,
  "metadata": {
    "colab": {
      "name": "Analysis_BIg_Data_challenge.ipynb",
      "provenance": [],
      "collapsed_sections": [],
      "authorship_tag": "ABX9TyOw1NPshm58MD9qD+767S7f",
      "include_colab_link": true
    },
    "kernelspec": {
      "name": "python3",
      "display_name": "Python 3"
    }
  },
  "cells": [
    {
      "cell_type": "markdown",
      "metadata": {
        "id": "view-in-github",
        "colab_type": "text"
      },
      "source": [
        "<a href=\"https://colab.research.google.com/github/tolewicz/Product_Reviews_Big_Data/blob/main/Analysis_BIg_Data_challenge.ipynb\" target=\"_parent\"><img src=\"https://colab.research.google.com/assets/colab-badge.svg\" alt=\"Open In Colab\"/></a>"
      ]
    },
    {
      "cell_type": "code",
      "metadata": {
        "id": "Z04ZRi1Eed8J",
        "outputId": "f6fec27f-4cf5-45c2-bb07-84abaa4e6a27",
        "colab": {
          "base_uri": "https://localhost:8080/",
          "height": 208
        }
      },
      "source": [
        "# Install Java, Spark, and Findspark\n",
        "!apt-get install openjdk-8-jdk-headless -qq > /dev/null\n",
        "!wget -q http://www-us.apache.org/dist/spark/spark-2.4.5/spark-2.4.5-bin-hadoop2.7.tgz\n",
        "!tar xf spark-2.4.5-bin-hadoop2.7.tgz\n",
        "!pip install -q findspark\n",
        "!wget https://jdbc.postgresql.org/download/postgresql-42.2.9.jar\n",
        "\n",
        "# Set Environment Variables\n",
        "import os\n",
        "os.environ[\"JAVA_HOME\"] = \"/usr/lib/jvm/java-8-openjdk-amd64\"\n",
        "os.environ[\"SPARK_HOME\"] = \"/content/spark-2.4.5-bin-hadoop2.7\"\n",
        "\n",
        "# Start a SparkSession\n",
        "import findspark\n",
        "findspark.init()"
      ],
      "execution_count": null,
      "outputs": [
        {
          "output_type": "stream",
          "text": [
            "--2020-05-05 05:31:28--  https://jdbc.postgresql.org/download/postgresql-42.2.9.jar\n",
            "Resolving jdbc.postgresql.org (jdbc.postgresql.org)... 72.32.157.228, 2001:4800:3e1:1::228\n",
            "Connecting to jdbc.postgresql.org (jdbc.postgresql.org)|72.32.157.228|:443... connected.\n",
            "HTTP request sent, awaiting response... 200 OK\n",
            "Length: 914037 (893K) [application/java-archive]\n",
            "Saving to: ‘postgresql-42.2.9.jar.2’\n",
            "\n",
            "postgresql-42.2.9.j 100%[===================>] 892.61K  3.85MB/s    in 0.2s    \n",
            "\n",
            "2020-05-05 05:31:29 (3.85 MB/s) - ‘postgresql-42.2.9.jar.2’ saved [914037/914037]\n",
            "\n"
          ],
          "name": "stdout"
        }
      ]
    },
    {
      "cell_type": "code",
      "metadata": {
        "id": "xxua9DpnenRd"
      },
      "source": [
        "from pyspark.sql import SparkSession\n",
        "spark = SparkSession.builder.appName(\"CloudETL\").config(\"spark.driver.extraClassPath\",\"/content/postgresql-42.2.9.jar\").getOrCreate()"
      ],
      "execution_count": null,
      "outputs": []
    },
    {
      "cell_type": "code",
      "metadata": {
        "id": "mCclQl9Afb1J",
        "outputId": "c33d0e88-c8cb-473e-da6a-2ad5df163f9e",
        "colab": {
          "base_uri": "https://localhost:8080/",
          "height": 488
        }
      },
      "source": [
        "# Read in data from S3 Buckets user_data.csv\n",
        "#IT WORKED !!  \n",
        "from pyspark import SparkFiles\n",
        "url =\"https://s3.amazonaws.com/amazon-reviews-pds/tsv/amazon_reviews_us_Video_Games_v1_00.tsv.gz\"\n",
        "spark.sparkContext.addFile(url)\n",
        "user_data_df = spark.read.csv(SparkFiles.get(\"amazon_reviews_us_Video_Games_v1_00.tsv.gz\"), sep=\"\\t\", header=True, inferSchema=True)\n",
        "\n",
        "\n",
        "# Show DataFrame\n",
        "user_data_df.show()"
      ],
      "execution_count": null,
      "outputs": [
        {
          "output_type": "stream",
          "text": [
            "+-----------+-----------+--------------+----------+--------------+--------------------+----------------+-----------+-------------+-----------+----+-----------------+--------------------+--------------------+-------------------+\n",
            "|marketplace|customer_id|     review_id|product_id|product_parent|       product_title|product_category|star_rating|helpful_votes|total_votes|vine|verified_purchase|     review_headline|         review_body|        review_date|\n",
            "+-----------+-----------+--------------+----------+--------------+--------------------+----------------+-----------+-------------+-----------+----+-----------------+--------------------+--------------------+-------------------+\n",
            "|         US|   12039526| RTIS3L2M1F5SM|B001CXYMFS|     737716809|Thrustmaster T-Fl...|     Video Games|          5|            0|          0|   N|                Y|an amazing joysti...|Used this for Eli...|2015-08-31 00:00:00|\n",
            "|         US|    9636577| R1ZV7R40OLHKD|B00M920ND6|     569686175|Tonsee 6 buttons ...|     Video Games|          5|            0|          0|   N|                Y|Definitely a sile...|Loved it,  I didn...|2015-08-31 00:00:00|\n",
            "|         US|    2331478|R3BH071QLH8QMC|B0029CSOD2|      98937668|Hidden Mysteries:...|     Video Games|          1|            0|          1|   N|                Y|            One Star|poor quality work...|2015-08-31 00:00:00|\n",
            "|         US|   52495923|R127K9NTSXA2YH|B00GOOSV98|      23143350|GelTabz Performan...|     Video Games|          3|            0|          0|   N|                Y|good, but could b...|nice, but tend to...|2015-08-31 00:00:00|\n",
            "|         US|   14533949|R32ZWUXDJPW27Q|B00Y074JOM|     821342511|Zero Suit Samus a...|     Video Games|          4|            0|          0|   N|                Y|   Great but flawed.|Great amiibo, gre...|2015-08-31 00:00:00|\n",
            "|         US|    2377552|R3AQQ4YUKJWBA6|B002UBI6W6|     328764615|Psyclone Recharge...|     Video Games|          1|            0|          0|   N|                Y|            One Star|The remote consta...|2015-08-31 00:00:00|\n",
            "|         US|   17521011|R2F0POU5K6F73F|B008XHCLFO|      24234603|Protection for yo...|     Video Games|          5|            0|          0|   N|                Y|              A Must|I have a 2012-201...|2015-08-31 00:00:00|\n",
            "|         US|   19676307|R3VNR804HYSMR6|B00BRA9R6A|     682267517|   Nerf 3DS XL Armor|     Video Games|          5|            0|          0|   N|                Y|          Five Stars|Perfect, kids lov...|2015-08-31 00:00:00|\n",
            "|         US|     224068| R3GZTM72WA2QH|B009EPWJLA|     435241890|One Piece: Pirate...|     Video Games|          5|            0|          0|   N|                Y|          Five Stars|            Excelent|2015-08-31 00:00:00|\n",
            "|         US|   48467989| RNQOY62705W1K|B0000AV7GB|     256572651|Playstation 2 Dan...|     Video Games|          4|            0|          0|   N|                Y|          Four Stars|Slippery but expe...|2015-08-31 00:00:00|\n",
            "|         US|     106569|R1VTIA3JTYBY02|B00008KTNN|     384411423|Metal Arms: Glitc...|     Video Games|          5|            0|          0|   N|                N|          Five Stars|Love the game. Se...|2015-08-31 00:00:00|\n",
            "|         US|   48269642|R29DOU8791QZL8|B000A3IA0Y|     472622859|72 Pin Connector ...|     Video Games|          1|            0|          0|   N|                Y| Game will get stuck|Does not fit prop...|2015-08-31 00:00:00|\n",
            "|         US|   52738710|R15DUT1VIJ9RJZ|B0053BQN34|     577628462|uDraw Gametablet ...|     Video Games|          2|            0|          0|   N|                Y|We have tried it ...|This was way too ...|2015-08-31 00:00:00|\n",
            "|         US|   10556786|R3IMF2MQ3OU9ZM|B002I0HIMI|     988218515|NBA 2K12(Covers M...|     Video Games|          4|            0|          0|   N|                Y|          Four Stars|Works great good ...|2015-08-31 00:00:00|\n",
            "|         US|    2963837|R23H79DHOZTYAU|B0081EH12M|     770100932|New Trigger Grips...|     Video Games|          1|            1|          1|   N|                Y|Now i have to buy...|It did not fit th...|2015-08-31 00:00:00|\n",
            "|         US|   23092109| RIV24EQAIXA4O|B005FMLZQQ|      24647669|Xbox 360 Media Re...|     Video Games|          5|            0|          0|   N|                Y|          Five Stars|perfect lightweig...|2015-08-31 00:00:00|\n",
            "|         US|   23091728|R3UCNGYDVN24YB|B002BSA388|      33706205|Super Mario Galaxy 2|     Video Games|          5|            0|          0|   N|                Y|          Five Stars|               great|2015-08-31 00:00:00|\n",
            "|         US|   10712640| RUL4H4XTTN2DY|B00BUSLSAC|     829667834|Nintendo 3DS XL -...|     Video Games|          5|            0|          0|   N|                Y|          Five Stars|Works beautifully...|2015-08-31 00:00:00|\n",
            "|         US|   17455376|R20JF7Z4DHTNX5|B00KWF38AW|     110680188|Captain Toad:  Tr...|     Video Games|          5|            0|          0|   N|                Y|          Five Stars|Kids loved the ga...|2015-08-31 00:00:00|\n",
            "|         US|   14754850|R2T1AJ5MFI2260|B00BRQJYA8|     616463426|Lego Batman 2: DC...|     Video Games|          4|            0|          0|   N|                Y|          Four Stars|           Goodngame|2015-08-31 00:00:00|\n",
            "+-----------+-----------+--------------+----------+--------------+--------------------+----------------+-----------+-------------+-----------+----+-----------------+--------------------+--------------------+-------------------+\n",
            "only showing top 20 rows\n",
            "\n"
          ],
          "name": "stdout"
        }
      ]
    },
    {
      "cell_type": "code",
      "metadata": {
        "id": "0KlZlYAs0RXs",
        "outputId": "f0a9c1db-652f-404a-ee58-c6b92b639435",
        "colab": {
          "base_uri": "https://localhost:8080/",
          "height": 52
        }
      },
      "source": [
        "print(f'number of rows = {user_data_df.count()}')\n",
        "print(f'number of columns {len(user_data_df.columns)}')"
      ],
      "execution_count": null,
      "outputs": [
        {
          "output_type": "stream",
          "text": [
            "number of rows = 1785997\n",
            "number of columns 15\n"
          ],
          "name": "stdout"
        }
      ]
    },
    {
      "cell_type": "code",
      "metadata": {
        "id": "sWY1acqI1RGH",
        "outputId": "c2d24e53-3941-4841-fcef-c7ccdfd02568",
        "colab": {
          "base_uri": "https://localhost:8080/",
          "height": 52
        }
      },
      "source": [
        "#Dropping nan\n",
        "data_clean_na=user_data_df.dropna()\n",
        "print(f'number of rows data na cleanned = {data_clean_na.count()}')\n",
        "\n",
        "#Dropping the same rows\n",
        "data_clean_double = data_clean_na.distinct()\n",
        "print(f'number of rows data wo 2x rows = {data_clean_double.count()}')\n",
        "\n",
        "#Dropping the data of same customer reviewing same product 2x, \n",
        "#Cancelled because it did not add any bennefit based on the result and it slowed down the process\n",
        "# data_clean=data_clean_double.dropDuplicates([\"customer_id\",\"product_id\"])\n",
        "# print(f'number of rows data wo 2x rows = {data_clean.count()}')\n",
        "\n",
        "#format daytime to date\n",
        "from pyspark.sql.types import DateType\n",
        "data_clean=data_clean_double.withColumn(\"review_date\",data_clean_double[\"review_date\"].cast(DateType()))\n",
        "\n",
        "analysis_table = data_clean.select(['star_rating','vine'])\n",
        "\n"
      ],
      "execution_count": null,
      "outputs": [
        {
          "output_type": "stream",
          "text": [
            "number of rows data na cleanned = 1785886\n",
            "number of rows data wo 2x rows = 1785886\n"
          ],
          "name": "stdout"
        }
      ]
    },
    {
      "cell_type": "code",
      "metadata": {
        "id": "xnJLb0JC62a3"
      },
      "source": [
        "#verified purcahse\n",
        "from pyspark.sql.functions import col"
      ],
      "execution_count": null,
      "outputs": []
    },
    {
      "cell_type": "code",
      "metadata": {
        "id": "EuwWyj_082is",
        "outputId": "672d31b3-218e-4e38-8fc0-410377bacf7f",
        "colab": {
          "base_uri": "https://localhost:8080/",
          "height": 399
        }
      },
      "source": [
        "#filtering for \"with vine review\"\n",
        "vine_cleaned = analysis_table.filter(col(\"vine\") == \"Y\")\n",
        "\n",
        "#filtering for \"without vine reviews\"\n",
        "no_vine_cleaned = analysis_table.filter(col(\"vine\") == \"N\")\n",
        "\n",
        "#gettign describe statistics for Vine/no Vine reviews\n",
        "print('print with vine')\n",
        "vine_cleaned.describe(\"star_rating\").show()\n",
        "\n",
        "print('no_vine')\n",
        "no_vine_cleaned.describe(\"star_rating\").show()"
      ],
      "execution_count": null,
      "outputs": [
        {
          "output_type": "stream",
          "text": [
            "print with vine\n",
            "+-------+------------------+\n",
            "|summary|       star_rating|\n",
            "+-------+------------------+\n",
            "|  count|              4290|\n",
            "|   mean|4.0748251748251745|\n",
            "| stddev|0.9183222304948364|\n",
            "|    min|                 1|\n",
            "|    max|                 5|\n",
            "+-------+------------------+\n",
            "\n",
            "no_vine\n",
            "+-------+-----------------+\n",
            "|summary|      star_rating|\n",
            "+-------+-----------------+\n",
            "|  count|          1781596|\n",
            "|   mean| 4.05985981109073|\n",
            "| stddev|1.356685162601055|\n",
            "|    min|                1|\n",
            "|    max|                5|\n",
            "+-------+-----------------+\n",
            "\n"
          ],
          "name": "stdout"
        }
      ]
    },
    {
      "cell_type": "code",
      "metadata": {
        "id": "hrV12p2hGDWb",
        "outputId": "62ced719-88d6-4987-9424-dd76827ae624",
        "colab": {
          "base_uri": "https://localhost:8080/",
          "height": 780
        }
      },
      "source": [
        "#Corelation of vine review with purchase , and getting the product rating\n",
        "#Partitioning out the customer impact\n",
        "#data purchsed has review based on personal experience\n",
        "#data not purchased is only opininon\n",
        "vine_data_purchased = vine_cleaned.filter(col(\"verified_purchase\") == \"Y\") \n",
        "vine_data_not_purcahsed = vine_cleaned.filter(col(\"verified_purchase\") == \"N\")\n",
        "no_vine_data_purcahsed = no_vine_cleaned.filter(col(\"verified_purchase\") == \"Y\")\n",
        "no_vine_data_not_purcahsed = no_vine_cleaned.filter(col(\"verified_purchase\") == \"N\")\n",
        "\n",
        "print(\"Purchased product with vine\")\n",
        "vine_data_purchased.describe(\"star_rating\").show()\n",
        "\n",
        "print(\"Purchased product without vine\")\n",
        "no_vine_data_purcahsed.describe(\"star_rating\").show()\n",
        "\n",
        "print(\"Not purchased product with vine\")\n",
        "vine_data_not_purcahsed.describe(\"star_rating\").show()\n",
        "\n",
        "print(\"Not purchased product without vine - e.g. some one didn't want to buy and wrote bad opinion\")\n",
        "no_vine_data_not_purcahsed.describe(\"star_rating\").show()"
      ],
      "execution_count": null,
      "outputs": [
        {
          "output_type": "stream",
          "text": [
            "Purchased product with vine\n",
            "+-------+------------------+\n",
            "|summary|       star_rating|\n",
            "+-------+------------------+\n",
            "|  count|                22|\n",
            "|   mean| 4.454545454545454|\n",
            "| stddev|0.9625003513801574|\n",
            "|    min|                 1|\n",
            "|    max|                 5|\n",
            "+-------+------------------+\n",
            "\n",
            "Purchased product without vine\n",
            "+-------+------------------+\n",
            "|summary|       star_rating|\n",
            "+-------+------------------+\n",
            "|  count|           1169594|\n",
            "|   mean| 4.191541680275377|\n",
            "| stddev|1.2794382872741497|\n",
            "|    min|                 1|\n",
            "|    max|                 5|\n",
            "+-------+------------------+\n",
            "\n",
            "Not purchased product with vine\n",
            "+-------+------------------+\n",
            "|summary|       star_rating|\n",
            "+-------+------------------+\n",
            "|  count|              4268|\n",
            "|   mean| 4.072867853795689|\n",
            "| stddev|0.9178001865545383|\n",
            "|    min|                 1|\n",
            "|    max|                 5|\n",
            "+-------+------------------+\n",
            "\n",
            "Not purchased product without vine - e.g. some one didn't want to buy and wrote bad opinion\n",
            "+-------+------------------+\n",
            "|summary|       star_rating|\n",
            "+-------+------------------+\n",
            "|  count|            612002|\n",
            "|   mean|3.8082032411658786|\n",
            "| stddev| 1.460578251478345|\n",
            "|    min|                 1|\n",
            "|    max|                 5|\n",
            "+-------+------------------+\n",
            "\n"
          ],
          "name": "stdout"
        }
      ]
    },
    {
      "cell_type": "markdown",
      "metadata": {
        "id": "ssUEp-XK5BNU"
      },
      "source": [
        "In the first glance bias of Vine on the product review seem to be negligible:\n",
        "\n",
        "Rating with vine is 4.07\n",
        "Rating w/o vine is 4.05\n",
        "\n",
        "Howerer, once the data is filtered by purchased product and compared vine vs no vine the difference is larger: with vine 4.45, without vine 4.19\n",
        "\n",
        "The reason for such filtering is that, the opinion about purchased product comes from the user, not from a bot.\n",
        "\n",
        "To verify if the vine ratings is biased I looked at the review of product purchased and not purchsed with vine. It turned out that the number of purchased products with vine is only 22, which means that most of the vine opinions (4268) was done without purchasing the product, which strngly suggests that the vine opinion is biased"
      ]
    }
  ]
}